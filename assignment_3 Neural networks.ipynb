{
 "cells": [
  {
   "cell_type": "code",
   "execution_count": 9,
   "id": "1f79ffd3",
   "metadata": {},
   "outputs": [
    {
     "name": "stdout",
     "output_type": "stream",
     "text": [
      "Few benefits as full time employee\n",
      "average_salary = 2637500.0\n"
     ]
    }
   ],
   "source": [
    "class Employee:\n",
    "    emp_num = 0\n",
    "    \n",
    "    def __init__(self, name, family_name, salary, department):\n",
    "        self.name = name\n",
    "        self.family_name = family_name\n",
    "        self.salary = salary\n",
    "        self.department = department\n",
    "        Employee.emp_num += 1\n",
    "        \n",
    "    def average_salary(emp_sal):\n",
    "        \n",
    "        sum = 0\n",
    "        for employee in emp_sal:\n",
    "            sum += employee.salary\n",
    "        return sum / Employee.emp_num\n",
    "    \n",
    "class FulltimeEmployee(Employee):\n",
    "    def __init__(self,name,family_name,salary,department):\n",
    "        super().__init__(name,family_name,salary,department)\n",
    "    def full_time_benifits(self):\n",
    "        print(\"Few benefits as full time employee\")\n",
    "        \n",
    "        \n",
    "def main():\n",
    "    employees = []\n",
    "    fte1 = FulltimeEmployee(\"shiny\",\"sherly\",50000,\"software\")\n",
    "    fte1.full_time_benifits()\n",
    "    employees.append(fte1)\n",
    "    fte2 = FulltimeEmployee(\"bhavya\",\"maddineni\",500000,\"software\")\n",
    "    employees.append(fte2)\n",
    "    e1 = FulltimeEmployee(\"snikitha\",\"bommena\",5000000,\"IT\")\n",
    "    employees.append(e1)\n",
    "    e2 = FulltimeEmployee(\"hari\",\"priya\",5000000,\"IT\")\n",
    "    employees.append(e2)\n",
    "    print(\"average_salary =\", FulltimeEmployee.average_salary(employees))\n",
    "    \n",
    "if __name__ == \"__main__\":\n",
    "    main()\n",
    "    "
   ]
  },
  {
   "cell_type": "markdown",
   "id": "94508787",
   "metadata": {},
   "source": [
    "A class named Employee has been created. Data member emp_num is given. A constructor is created for all the given parameters. To get the average salary, a function is created. Fulltime employee class is created to inherit the properties of the employee class. average_salary funtion is created and employees list is passed as an argument to calculate average salary. Full_Time_Employee class has been created that extends the properties of Employee class. average_salary function is called by creating the object for Full_Time_Employee class.\n"
   ]
  },
  {
   "cell_type": "code",
   "execution_count": 13,
   "id": "68be3503",
   "metadata": {},
   "outputs": [
    {
     "name": "stdout",
     "output_type": "stream",
     "text": [
      "[ 5.63218298  3.99311861 12.8869148  15.21437301  8.64136367 19.03324548\n",
      " 16.51013446 13.35243296  6.06179607 19.47416497  1.21632133  9.07604702\n",
      "  4.66290426  5.70530911 16.99532946  6.89329849 17.13098599  7.39949922\n",
      " 15.00066932 14.07822627]\n"
     ]
    }
   ],
   "source": [
    "import numpy as np\n",
    "a = np.random.uniform(1,20,20)\n",
    "print(a)"
   ]
  },
  {
   "cell_type": "code",
   "execution_count": 14,
   "id": "53372af3",
   "metadata": {},
   "outputs": [
    {
     "name": "stdout",
     "output_type": "stream",
     "text": [
      "Array : [ 5.63218298  3.99311861 12.8869148  15.21437301  8.64136367 19.03324548\n",
      " 16.51013446 13.35243296  6.06179607 19.47416497  1.21632133  9.07604702\n",
      "  4.66290426  5.70530911 16.99532946  6.89329849 17.13098599  7.39949922\n",
      " 15.00066932 14.07822627]\n",
      "First Reshaped Array 4 x 5 : \n",
      "[[ 5.63218298  3.99311861 12.8869148  15.21437301  8.64136367]\n",
      " [19.03324548 16.51013446 13.35243296  6.06179607 19.47416497]\n",
      " [ 1.21632133  9.07604702  4.66290426  5.70530911 16.99532946]\n",
      " [ 6.89329849 17.13098599  7.39949922 15.00066932 14.07822627]]\n"
     ]
    }
   ],
   "source": [
    "# importing numpy\n",
    "import numpy as np\n",
    "\n",
    "# creating a numpy array\n",
    "array = a;\n",
    "# printing array\n",
    "print(\"Array : \" + str(array))\n",
    "\n",
    "# length of array\n",
    "n = array.size\n",
    "\n",
    "# N-D array N dimension\n",
    "N = 4\n",
    "\n",
    "# calculating M\n",
    "M = n//N\n",
    "\n",
    "# reshaping numpy array\n",
    "# converting it to 2-D from 1-D array\n",
    "reshaped = array.reshape((N, M))\n",
    "\n",
    "# printing reshaped array\n",
    "print(\"First Reshaped Array 4 x 5 : \")\n",
    "print(reshaped)"
   ]
  },
  {
   "cell_type": "code",
   "execution_count": 15,
   "id": "6bfcb30c",
   "metadata": {},
   "outputs": [
    {
     "name": "stdout",
     "output_type": "stream",
     "text": [
      "[[ 5.63218298  3.99311861 12.8869148   0.          8.64136367]\n",
      " [19.03324548 16.51013446 13.35243296  6.06179607  0.        ]\n",
      " [ 1.21632133  9.07604702  4.66290426  5.70530911  0.        ]\n",
      " [ 6.89329849  0.          7.39949922 15.00066932 14.07822627]]\n"
     ]
    }
   ],
   "source": [
    "a = reshaped\n",
    "b = a\n",
    "b[np.arange(len(a)), a.argmax(1)] = 0\n",
    "print(b)"
   ]
  },
  {
   "cell_type": "markdown",
   "id": "2333dc9b",
   "metadata": {},
   "source": [
    "Imported numpy library and A vector has been created with random values of size 20 with range between 1 to 20. Array is reshaped to size of rows and columns of 4 and 5 using reshape method. Maximum element of each row of array is replaced with zero."
   ]
  },
  {
   "cell_type": "code",
   "execution_count": null,
   "id": "db54af36",
   "metadata": {},
   "outputs": [],
   "source": []
  }
 ],
 "metadata": {
  "kernelspec": {
   "display_name": "Python 3 (ipykernel)",
   "language": "python",
   "name": "python3"
  },
  "language_info": {
   "codemirror_mode": {
    "name": "ipython",
    "version": 3
   },
   "file_extension": ".py",
   "mimetype": "text/x-python",
   "name": "python",
   "nbconvert_exporter": "python",
   "pygments_lexer": "ipython3",
   "version": "3.9.13"
  }
 },
 "nbformat": 4,
 "nbformat_minor": 5
}
